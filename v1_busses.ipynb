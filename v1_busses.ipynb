{
 "cells": [
  {
   "cell_type": "markdown",
   "metadata": {},
   "source": [
    "https://data.ny.gov/Transportation/MTA-Bus-Hourly-Ridership-Beginning-February-2022/kv7t-n8in/data_preview"
   ]
  },
  {
   "cell_type": "code",
   "execution_count": 2,
   "metadata": {},
   "outputs": [
    {
     "name": "stdout",
     "output_type": "stream",
     "text": [
      "        transit_timestamp bus_route payment_method  \\\n",
      "0  06/18/2023 08:00:00 AM       B37           omny   \n",
      "1  06/18/2023 08:00:00 AM       B43           omny   \n",
      "\n",
      "           fare_class_category  ridership  transfers  \n",
      "0             OMNY - Full Fare     11.039       2.01  \n",
      "1  OMNY - Seniors & Disability      0.005       0.00  \n"
     ]
    }
   ],
   "source": [
    "import pandas\n",
    "csvFile = pandas.read_csv('MTA_Bus_Hourly_Ridership__Beginning_February_2022_20240930.csv')\n",
    "print(csvFile.head(2))"
   ]
  }
 ],
 "metadata": {
  "kernelspec": {
   "display_name": "Python 3",
   "language": "python",
   "name": "python3"
  },
  "language_info": {
   "codemirror_mode": {
    "name": "ipython",
    "version": 3
   },
   "file_extension": ".py",
   "mimetype": "text/x-python",
   "name": "python",
   "nbconvert_exporter": "python",
   "pygments_lexer": "ipython3",
   "version": "3.9.6"
  },
  "orig_nbformat": 4
 },
 "nbformat": 4,
 "nbformat_minor": 2
}
