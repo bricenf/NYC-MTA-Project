{
 "cells": [
  {
   "cell_type": "markdown",
   "metadata": {},
   "source": [
    "https://data.ny.gov/Transportation/MTA-Subway-Entrances-and-Exits-2024/i9wp-a4ja/data_preview\n",
    "\n",
    "https://data.ny.gov/Transportation/MTA-Subway-Hourly-Ridership-Beginning-February-202/wujg-7c2s/about_data\n",
    "\n",
    "https://data.ny.gov/Transportation/MTA-Permanent-Art-Catalog-Beginning-1980/4y8j-9pkd/about_data\n",
    "\n",
    "https://data.ny.gov/Transportation/511-NY-MTA-Events-Beginning-2010/i8wu-pqzv/about_data\n",
    "\n",
    "https://data.ny.gov/Transportation/MTA-Subway-Turnstile-Usage-Data-2015/ug6q-shqc/about_data\n",
    "\n",
    "https://data.ny.gov/Transportation/MTA-NYCT-MetroCard-History-2010-2021/v7qc-gwpn\n",
    "\n",
    "https://data.ny.gov/Transportation/MTA-Key-Performance-Indicators-2008-2021/cy9b-i9w9/about_data\n"
   ]
  },
  {
   "cell_type": "code",
   "execution_count": 1,
   "metadata": {},
   "outputs": [],
   "source": [
    "import pandas"
   ]
  },
  {
   "cell_type": "code",
   "execution_count": 2,
   "metadata": {},
   "outputs": [
    {
     "name": "stdout",
     "output_type": "stream",
     "text": [
      "     Division      Line Borough                 Stop Name  Complex ID  \\\n",
      "0         BMT    4th Av       B  Atlantic Av-Barclays Ctr         617   \n",
      "1         BMT    4th Av       B  Atlantic Av-Barclays Ctr         617   \n",
      "2         BMT    4th Av       B  Atlantic Av-Barclays Ctr         617   \n",
      "3         BMT    4th Av       B                  Union St          28   \n",
      "4         BMT    4th Av       B                  Union St          28   \n",
      "...       ...       ...     ...                       ...         ...   \n",
      "2115      BMT  West End       B                     25 Av          69   \n",
      "2116      BMT  West End       B                 Bay 50 St          70   \n",
      "2117      BMT  West End       B                 Bay 50 St          70   \n",
      "2118      BMT  West End       B                 Bay 50 St          70   \n",
      "2119      BMT  West End       B                 Bay 50 St          70   \n",
      "\n",
      "      Constituent Station Name  Station ID GTFS Stop ID     Daytime Routes  \\\n",
      "0     Atlantic Av-Barclays Ctr          27          R31  2 3 4 5 B D N Q R   \n",
      "1     Atlantic Av-Barclays Ctr          27          R31  2 3 4 5 B D N Q R   \n",
      "2     Atlantic Av-Barclays Ctr          27          R31  2 3 4 5 B D N Q R   \n",
      "3                     Union St          28          R32                  R   \n",
      "4                     Union St          28          R32                  R   \n",
      "...                        ...         ...          ...                ...   \n",
      "2115                     25 Av          69          B22                  D   \n",
      "2116                 Bay 50 St          70          B23                  D   \n",
      "2117                 Bay 50 St          70          B23                  D   \n",
      "2118                 Bay 50 St          70          B23                  D   \n",
      "2119                 Bay 50 St          70          B23                  D   \n",
      "\n",
      "     Entrance Type Entry Allowed Exit Allowed  Entrance Latitude  \\\n",
      "0            Stair           YES          YES          40.683905   \n",
      "1         Elevator           YES          YES          40.683805   \n",
      "2            Stair           YES          YES          40.683928   \n",
      "3            Stair           YES          YES          40.677154   \n",
      "4            Stair           YES          YES          40.677296   \n",
      "...            ...           ...          ...                ...   \n",
      "2115         Stair           YES          YES          40.597889   \n",
      "2116         Stair           YES          YES          40.588305   \n",
      "2117         Stair           YES          YES          40.588022   \n",
      "2118         Stair           YES          YES          40.588330   \n",
      "2119         Stair           YES          YES          40.588045   \n",
      "\n",
      "      Entrance Longitude           entrance_georeference  \n",
      "0             -73.978879    POINT (-73.978879 40.683905)  \n",
      "1             -73.978487    POINT (-73.978487 40.683805)  \n",
      "2             -73.978412    POINT (-73.978412 40.683928)  \n",
      "3             -73.983430  POINT (-73.9834296 40.6771544)  \n",
      "4             -73.983336  POINT (-73.9833364 40.6772958)  \n",
      "...                  ...                             ...  \n",
      "2115          -73.986958    POINT (-73.986958 40.597889)  \n",
      "2116          -73.983791    POINT (-73.983791 40.588305)  \n",
      "2117          -73.983735    POINT (-73.983735 40.588022)  \n",
      "2118          -73.983548  POINT (-73.9835485 40.5883299)  \n",
      "2119          -73.983498  POINT (-73.9834982 40.5880448)  \n",
      "\n",
      "[2120 rows x 15 columns]\n"
     ]
    }
   ],
   "source": [
    "csvFile = pandas.read_csv('MTA_Subway_Entrances_and_Exits__2024_20240930.csv')\n",
    "print(csvFile)"
   ]
  },
  {
   "cell_type": "code",
   "execution_count": 3,
   "metadata": {},
   "outputs": [
    {
     "name": "stdout",
     "output_type": "stream",
     "text": [
      "['Stair' 'Elevator' 'Easement - Street' 'Escalator' 'Station House'\n",
      " 'Easement - Passage' 'Stair/Escalator' 'Walkway' 'Ramp' 'Underpass'\n",
      " 'Overpass' 'Stair/Ramp' 'Stair/Ramp/Walkway']\n"
     ]
    }
   ],
   "source": [
    "#Entrance type\n",
    "\n",
    "\n",
    "unique_entrance_types = csvFile['Entrance Type'].unique()\n",
    "print(unique_entrance_types)\n"
   ]
  }
 ],
 "metadata": {
  "kernelspec": {
   "display_name": "Python 3",
   "language": "python",
   "name": "python3"
  },
  "language_info": {
   "codemirror_mode": {
    "name": "ipython",
    "version": 3
   },
   "file_extension": ".py",
   "mimetype": "text/x-python",
   "name": "python",
   "nbconvert_exporter": "python",
   "pygments_lexer": "ipython3",
   "version": "3.9.6"
  },
  "orig_nbformat": 4
 },
 "nbformat": 4,
 "nbformat_minor": 2
}
